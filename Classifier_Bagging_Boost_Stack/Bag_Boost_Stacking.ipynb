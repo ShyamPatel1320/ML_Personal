{
 "cells": [
  {
   "cell_type": "code",
   "execution_count": 1,
   "id": "organizational-fireplace",
   "metadata": {},
   "outputs": [],
   "source": [
    "from numpy import mean \n",
    "from numpy import std \n",
    "from sklearn.datasets import make_classification \n",
    "from sklearn.model_selection import cross_val_score \n",
    "from sklearn.model_selection import RepeatedStratifiedKFold \n",
    "from sklearn.ensemble import BaggingClassifier \n",
    "from sklearn.linear_model import LogisticRegression \n",
    "from sklearn.neighbors import KNeighborsClassifier \n",
    "from sklearn.tree import DecisionTreeClassifier \n",
    "from sklearn.svm import SVC \n",
    "from sklearn.naive_bayes import GaussianNB \n",
    "from matplotlib import pyplot "
   ]
  },
  {
   "cell_type": "markdown",
   "id": "legislative-ivory",
   "metadata": {},
   "source": [
    "# Bagging "
   ]
  },
  {
   "cell_type": "code",
   "execution_count": 2,
   "id": "certified-rhythm",
   "metadata": {},
   "outputs": [
    {
     "name": "stdout",
     "output_type": "stream",
     "text": [
      "Accuracy: 0.854 (0.039)\n"
     ]
    }
   ],
   "source": [
    "X, y = make_classification(n_samples=1000, n_features=20, n_informative=15, n_redundant=5, \n",
    "random_state=5) \n",
    "model = BaggingClassifier()\n",
    "cv = RepeatedStratifiedKFold(n_splits=10, n_repeats=3, random_state=1) \n",
    "n_scores = cross_val_score(model, X, y, scoring='accuracy', cv=cv, n_jobs=-1, error_score='raise') \n",
    "print('Accuracy: %.3f (%.3f)' % (mean(n_scores), std(n_scores))) "
   ]
  },
  {
   "cell_type": "markdown",
   "id": "undefined-earthquake",
   "metadata": {},
   "source": [
    "# Boosting"
   ]
  },
  {
   "cell_type": "code",
   "execution_count": 3,
   "id": "jewish-dispatch",
   "metadata": {},
   "outputs": [
    {
     "name": "stdout",
     "output_type": "stream",
     "text": [
      "Mean Accuracy: 0.899 (0.031)\n"
     ]
    }
   ],
   "source": [
    "from sklearn.ensemble import GradientBoostingClassifier \n",
    "X, y = make_classification(n_samples=1000, n_features=20, n_informative=15, n_redundant=5, \n",
    "random_state=7) \n",
    "model = GradientBoostingClassifier() \n",
    "cv = RepeatedStratifiedKFold(n_splits=10, n_repeats=3, random_state=1) \n",
    "n_scores = cross_val_score(model, X, y, scoring='accuracy', cv=cv, n_jobs=-1) \n",
    "print('Mean Accuracy: %.3f (%.3f)' % (mean(n_scores), std(n_scores))) \n",
    "def evaluate_model(model, X, y): \n",
    " cv = RepeatedStratifiedKFold(n_splits=10, n_repeats=3, random_state=1) \n",
    " scores = cross_val_score(model, X, y, scoring='accuracy', cv=cv, n_jobs=-1, error_score='raise') \n",
    " return scores "
   ]
  },
  {
   "cell_type": "markdown",
   "id": "respective-motel",
   "metadata": {},
   "source": [
    "# Stacking"
   ]
  },
  {
   "cell_type": "code",
   "execution_count": 4,
   "id": "aggressive-upper",
   "metadata": {},
   "outputs": [
    {
     "name": "stdout",
     "output_type": "stream",
     "text": [
      ">lr 0.866 (0.029)\n",
      ">knn 0.931 (0.025)\n",
      ">decisiontree 0.820 (0.046)\n",
      ">svm 0.957 (0.020)\n",
      ">bayes 0.833 (0.031)\n"
     ]
    },
    {
     "data": {
      "image/png": "[encoded data removed]",
      "text/plain": [
       "<Figure size 432x288 with 1 Axes>"
      ]
     },
     "metadata": {
      "needs_background": "light"
     },
     "output_type": "display_data"
    }
   ],
   "source": [
    "X, y = make_classification(n_samples=1000, n_features=20, n_informative=15, n_redundant=5, \n",
    "random_state=1) \n",
    "models = dict() \n",
    "models['lr'] = LogisticRegression() \n",
    "models['knn'] = KNeighborsClassifier() \n",
    "models['decisiontree'] = DecisionTreeClassifier() \n",
    "models['svm'] = SVC() \n",
    "models['bayes'] = GaussianNB() \n",
    "results, names = list(), list() \n",
    "for name, model in models.items(): \n",
    " scores = evaluate_model(model, X, y) \n",
    " results.append(scores) \n",
    " names.append(name) \n",
    " print('>%s %.3f (%.3f)' % (name, mean(scores), std(scores))) \n",
    "pyplot.boxplot(results, labels=names, showmeans=True) \n",
    "pyplot.show() "
   ]
  },
  {
   "cell_type": "code",
   "execution_count": null,
   "id": "proud-friday",
   "metadata": {},
   "outputs": [],
   "source": []
  }
 ],
 "metadata": {
  "kernelspec": {
   "display_name": "Python 3",
   "language": "python",
   "name": "python3"
  },
  "language_info": {
   "codemirror_mode": {
    "name": "ipython",
    "version": 3
   },
   "file_extension": ".py",
   "mimetype": "text/x-python",
   "name": "python",
   "nbconvert_exporter": "python",
   "pygments_lexer": "ipython3",
   "version": "3.9.6"
  }
 },
 "nbformat": 4,
 "nbformat_minor": 5
}
